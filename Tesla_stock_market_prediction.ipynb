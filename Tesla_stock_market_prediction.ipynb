{
  "nbformat": 4,
  "nbformat_minor": 0,
  "metadata": {
    "colab": {
      "name": "Tesla stock_market  prediction",
      "provenance": [],
      "collapsed_sections": [],
      "authorship_tag": "ABX9TyOOjgeK9U6Oz46bGwg0xH35",
      "include_colab_link": true
    },
    "kernelspec": {
      "name": "python3",
      "display_name": "Python 3"
    },
    "language_info": {
      "name": "python"
    }
  },
  "cells": [
    {
      "cell_type": "markdown",
      "metadata": {
        "id": "view-in-github",
        "colab_type": "text"
      },
      "source": [
        "<a href=\"https://colab.research.google.com/github/Vaishnavisharan/Machine_Learning-Project/blob/main/Tesla_stock_market_prediction.ipynb\" target=\"_parent\"><img src=\"https://colab.research.google.com/assets/colab-badge.svg\" alt=\"Open In Colab\"/></a>"
      ]
    },
    {
      "cell_type": "markdown",
      "metadata": {
        "id": "NUmatUHCi31e"
      },
      "source": [
        "IMPORTING LIBRAIES "
      ]
    },
    {
      "cell_type": "code",
      "metadata": {
        "id": "yntDkyoSjIEn"
      },
      "source": [
        "import pandas as pd\n",
        "import numpy as np\n",
        "import matplotlib.pyplot as plt\n",
        "%matplotlib inline\n",
        "import datetime"
      ],
      "execution_count": null,
      "outputs": []
    },
    {
      "cell_type": "markdown",
      "metadata": {
        "id": "MK-Y62xWjL9t"
      },
      "source": [
        "LOADING DATASET "
      ]
    },
    {
      "cell_type": "code",
      "metadata": {
        "id": "hOvLh3mee9YF"
      },
      "source": [
        "tesla=pd.read_csv('tesla.csv')"
      ],
      "execution_count": null,
      "outputs": []
    },
    {
      "cell_type": "code",
      "metadata": {
        "colab": {
          "base_uri": "https://localhost:8080/",
          "height": 206
        },
        "id": "SzjGVt7fjZ3_",
        "outputId": "5e07c421-3933-4792-fc2e-edc9ade05d99"
      },
      "source": [
        "tesla.head(5)"
      ],
      "execution_count": null,
      "outputs": [
        {
          "output_type": "execute_result",
          "data": {
            "text/html": [
              "<div>\n",
              "<style scoped>\n",
              "    .dataframe tbody tr th:only-of-type {\n",
              "        vertical-align: middle;\n",
              "    }\n",
              "\n",
              "    .dataframe tbody tr th {\n",
              "        vertical-align: top;\n",
              "    }\n",
              "\n",
              "    .dataframe thead th {\n",
              "        text-align: right;\n",
              "    }\n",
              "</style>\n",
              "<table border=\"1\" class=\"dataframe\">\n",
              "  <thead>\n",
              "    <tr style=\"text-align: right;\">\n",
              "      <th></th>\n",
              "      <th>Date</th>\n",
              "      <th>Open</th>\n",
              "      <th>High</th>\n",
              "      <th>Low</th>\n",
              "      <th>Close</th>\n",
              "      <th>Adj Close</th>\n",
              "      <th>Volume</th>\n",
              "    </tr>\n",
              "  </thead>\n",
              "  <tbody>\n",
              "    <tr>\n",
              "      <th>0</th>\n",
              "      <td>29-06-2010</td>\n",
              "      <td>19.000000</td>\n",
              "      <td>25.00</td>\n",
              "      <td>17.540001</td>\n",
              "      <td>23.889999</td>\n",
              "      <td>23.889999</td>\n",
              "      <td>18766300</td>\n",
              "    </tr>\n",
              "    <tr>\n",
              "      <th>1</th>\n",
              "      <td>30-06-2010</td>\n",
              "      <td>25.790001</td>\n",
              "      <td>30.42</td>\n",
              "      <td>23.299999</td>\n",
              "      <td>23.830000</td>\n",
              "      <td>23.830000</td>\n",
              "      <td>17187100</td>\n",
              "    </tr>\n",
              "    <tr>\n",
              "      <th>2</th>\n",
              "      <td>01-07-2010</td>\n",
              "      <td>25.000000</td>\n",
              "      <td>25.92</td>\n",
              "      <td>20.270000</td>\n",
              "      <td>21.959999</td>\n",
              "      <td>21.959999</td>\n",
              "      <td>8218800</td>\n",
              "    </tr>\n",
              "    <tr>\n",
              "      <th>3</th>\n",
              "      <td>02-07-2010</td>\n",
              "      <td>23.000000</td>\n",
              "      <td>23.10</td>\n",
              "      <td>18.709999</td>\n",
              "      <td>19.200001</td>\n",
              "      <td>19.200001</td>\n",
              "      <td>5139800</td>\n",
              "    </tr>\n",
              "    <tr>\n",
              "      <th>4</th>\n",
              "      <td>06-07-2010</td>\n",
              "      <td>20.000000</td>\n",
              "      <td>20.00</td>\n",
              "      <td>15.830000</td>\n",
              "      <td>16.110001</td>\n",
              "      <td>16.110001</td>\n",
              "      <td>6866900</td>\n",
              "    </tr>\n",
              "  </tbody>\n",
              "</table>\n",
              "</div>"
            ],
            "text/plain": [
              "         Date       Open   High        Low      Close  Adj Close    Volume\n",
              "0  29-06-2010  19.000000  25.00  17.540001  23.889999  23.889999  18766300\n",
              "1  30-06-2010  25.790001  30.42  23.299999  23.830000  23.830000  17187100\n",
              "2  01-07-2010  25.000000  25.92  20.270000  21.959999  21.959999   8218800\n",
              "3  02-07-2010  23.000000  23.10  18.709999  19.200001  19.200001   5139800\n",
              "4  06-07-2010  20.000000  20.00  15.830000  16.110001  16.110001   6866900"
            ]
          },
          "metadata": {},
          "execution_count": 3
        }
      ]
    },
    {
      "cell_type": "code",
      "metadata": {
        "colab": {
          "base_uri": "https://localhost:8080/"
        },
        "id": "BMn8Sdflfqe9",
        "outputId": "a15efd0c-5648-48b3-e9aa-418852911e03"
      },
      "source": [
        "tesla.shape"
      ],
      "execution_count": null,
      "outputs": [
        {
          "output_type": "execute_result",
          "data": {
            "text/plain": [
              "(2193, 7)"
            ]
          },
          "metadata": {},
          "execution_count": 4
        }
      ]
    },
    {
      "cell_type": "code",
      "metadata": {
        "colab": {
          "base_uri": "https://localhost:8080/"
        },
        "id": "oDDYws8Gjmdb",
        "outputId": "7bc9cacd-f5f8-41bc-9dd8-0f15c20f3e49"
      },
      "source": [
        "tesla.dtypes"
      ],
      "execution_count": null,
      "outputs": [
        {
          "output_type": "execute_result",
          "data": {
            "text/plain": [
              "Date          object\n",
              "Open         float64\n",
              "High         float64\n",
              "Low          float64\n",
              "Close        float64\n",
              "Adj Close    float64\n",
              "Volume         int64\n",
              "dtype: object"
            ]
          },
          "metadata": {},
          "execution_count": 5
        }
      ]
    },
    {
      "cell_type": "code",
      "metadata": {
        "colab": {
          "base_uri": "https://localhost:8080/"
        },
        "id": "Mad2mzoIjv1z",
        "outputId": "6573be83-be08-4966-a13c-256e46a773e8"
      },
      "source": [
        "tesla.columns"
      ],
      "execution_count": null,
      "outputs": [
        {
          "output_type": "execute_result",
          "data": {
            "text/plain": [
              "Index(['Date', 'Open', 'High', 'Low', 'Close', 'Adj Close', 'Volume'], dtype='object')"
            ]
          },
          "metadata": {},
          "execution_count": 6
        }
      ]
    },
    {
      "cell_type": "code",
      "metadata": {
        "colab": {
          "base_uri": "https://localhost:8080/",
          "height": 300
        },
        "id": "wyjFoglAjrCr",
        "outputId": "1e3327f4-0da6-4281-8dec-96c3ee4abb90"
      },
      "source": [
        "tesla.describe()"
      ],
      "execution_count": null,
      "outputs": [
        {
          "output_type": "execute_result",
          "data": {
            "text/html": [
              "<div>\n",
              "<style scoped>\n",
              "    .dataframe tbody tr th:only-of-type {\n",
              "        vertical-align: middle;\n",
              "    }\n",
              "\n",
              "    .dataframe tbody tr th {\n",
              "        vertical-align: top;\n",
              "    }\n",
              "\n",
              "    .dataframe thead th {\n",
              "        text-align: right;\n",
              "    }\n",
              "</style>\n",
              "<table border=\"1\" class=\"dataframe\">\n",
              "  <thead>\n",
              "    <tr style=\"text-align: right;\">\n",
              "      <th></th>\n",
              "      <th>Open</th>\n",
              "      <th>High</th>\n",
              "      <th>Low</th>\n",
              "      <th>Close</th>\n",
              "      <th>Adj Close</th>\n",
              "      <th>Volume</th>\n",
              "    </tr>\n",
              "  </thead>\n",
              "  <tbody>\n",
              "    <tr>\n",
              "      <th>count</th>\n",
              "      <td>2193.000000</td>\n",
              "      <td>2193.000000</td>\n",
              "      <td>2193.000000</td>\n",
              "      <td>2193.000000</td>\n",
              "      <td>2193.000000</td>\n",
              "      <td>2.193000e+03</td>\n",
              "    </tr>\n",
              "    <tr>\n",
              "      <th>mean</th>\n",
              "      <td>175.652882</td>\n",
              "      <td>178.710262</td>\n",
              "      <td>172.412075</td>\n",
              "      <td>175.648555</td>\n",
              "      <td>175.648555</td>\n",
              "      <td>5.077449e+06</td>\n",
              "    </tr>\n",
              "    <tr>\n",
              "      <th>std</th>\n",
              "      <td>115.580903</td>\n",
              "      <td>117.370092</td>\n",
              "      <td>113.654794</td>\n",
              "      <td>115.580771</td>\n",
              "      <td>115.580771</td>\n",
              "      <td>4.545398e+06</td>\n",
              "    </tr>\n",
              "    <tr>\n",
              "      <th>min</th>\n",
              "      <td>16.139999</td>\n",
              "      <td>16.629999</td>\n",
              "      <td>14.980000</td>\n",
              "      <td>15.800000</td>\n",
              "      <td>15.800000</td>\n",
              "      <td>1.185000e+05</td>\n",
              "    </tr>\n",
              "    <tr>\n",
              "      <th>25%</th>\n",
              "      <td>33.110001</td>\n",
              "      <td>33.910000</td>\n",
              "      <td>32.459999</td>\n",
              "      <td>33.160000</td>\n",
              "      <td>33.160000</td>\n",
              "      <td>1.577800e+06</td>\n",
              "    </tr>\n",
              "    <tr>\n",
              "      <th>50%</th>\n",
              "      <td>204.990005</td>\n",
              "      <td>208.160004</td>\n",
              "      <td>201.669998</td>\n",
              "      <td>204.990005</td>\n",
              "      <td>204.990005</td>\n",
              "      <td>4.171700e+06</td>\n",
              "    </tr>\n",
              "    <tr>\n",
              "      <th>75%</th>\n",
              "      <td>262.000000</td>\n",
              "      <td>265.329987</td>\n",
              "      <td>256.209991</td>\n",
              "      <td>261.739990</td>\n",
              "      <td>261.739990</td>\n",
              "      <td>6.885600e+06</td>\n",
              "    </tr>\n",
              "    <tr>\n",
              "      <th>max</th>\n",
              "      <td>386.690002</td>\n",
              "      <td>389.609985</td>\n",
              "      <td>379.350006</td>\n",
              "      <td>385.000000</td>\n",
              "      <td>385.000000</td>\n",
              "      <td>3.716390e+07</td>\n",
              "    </tr>\n",
              "  </tbody>\n",
              "</table>\n",
              "</div>"
            ],
            "text/plain": [
              "              Open         High  ...    Adj Close        Volume\n",
              "count  2193.000000  2193.000000  ...  2193.000000  2.193000e+03\n",
              "mean    175.652882   178.710262  ...   175.648555  5.077449e+06\n",
              "std     115.580903   117.370092  ...   115.580771  4.545398e+06\n",
              "min      16.139999    16.629999  ...    15.800000  1.185000e+05\n",
              "25%      33.110001    33.910000  ...    33.160000  1.577800e+06\n",
              "50%     204.990005   208.160004  ...   204.990005  4.171700e+06\n",
              "75%     262.000000   265.329987  ...   261.739990  6.885600e+06\n",
              "max     386.690002   389.609985  ...   385.000000  3.716390e+07\n",
              "\n",
              "[8 rows x 6 columns]"
            ]
          },
          "metadata": {},
          "execution_count": 7
        }
      ]
    },
    {
      "cell_type": "code",
      "metadata": {
        "colab": {
          "base_uri": "https://localhost:8080/"
        },
        "id": "UektF3-RjukO",
        "outputId": "3c8474c2-1402-4b97-c050-a569e816541d"
      },
      "source": [
        "tesla.info"
      ],
      "execution_count": null,
      "outputs": [
        {
          "output_type": "execute_result",
          "data": {
            "text/plain": [
              "<bound method DataFrame.info of             Date        Open        High  ...       Close   Adj Close    Volume\n",
              "0     29-06-2010   19.000000   25.000000  ...   23.889999   23.889999  18766300\n",
              "1     30-06-2010   25.790001   30.420000  ...   23.830000   23.830000  17187100\n",
              "2     01-07-2010   25.000000   25.920000  ...   21.959999   21.959999   8218800\n",
              "3     02-07-2010   23.000000   23.100000  ...   19.200001   19.200001   5139800\n",
              "4     06-07-2010   20.000000   20.000000  ...   16.110001   16.110001   6866900\n",
              "...          ...         ...         ...  ...         ...         ...       ...\n",
              "2188  11-03-2019  283.519989  291.279999  ...  290.920013  290.920013   7392300\n",
              "2189  12-03-2019  286.489990  288.070007  ...  283.359985  283.359985   7504100\n",
              "2190  13-03-2019  283.899994  291.989990  ...  288.959991  288.959991   6844700\n",
              "2191  14-03-2019  292.450012  295.390015  ...  289.959991  289.959991   7074200\n",
              "2192  15-03-2019  283.510010  283.723999  ...  275.429993  275.429993  14758243\n",
              "\n",
              "[2193 rows x 7 columns]>"
            ]
          },
          "metadata": {},
          "execution_count": 8
        }
      ]
    },
    {
      "cell_type": "code",
      "metadata": {
        "colab": {
          "base_uri": "https://localhost:8080/"
        },
        "id": "yv1lSLQOj4jm",
        "outputId": "8bf35af4-adf5-420a-969d-d24b11f3623e"
      },
      "source": [
        "tesla.isnull().sum()"
      ],
      "execution_count": null,
      "outputs": [
        {
          "output_type": "execute_result",
          "data": {
            "text/plain": [
              "Date         0\n",
              "Open         0\n",
              "High         0\n",
              "Low          0\n",
              "Close        0\n",
              "Adj Close    0\n",
              "Volume       0\n",
              "dtype: int64"
            ]
          },
          "metadata": {},
          "execution_count": 9
        }
      ]
    },
    {
      "cell_type": "code",
      "metadata": {
        "id": "r5eUTwAMkHSy"
      },
      "source": [
        "tesla['Date']=pd.to_datetime(tesla['Date'])"
      ],
      "execution_count": null,
      "outputs": []
    },
    {
      "cell_type": "code",
      "metadata": {
        "colab": {
          "base_uri": "https://localhost:8080/"
        },
        "id": "spYeeUixliRN",
        "outputId": "f441ccc4-19e9-4ebd-fabf-24dcfd72a99c"
      },
      "source": [
        "print(f'dataframe contains stock price between {tesla.Date.min()}{tesla.Date.max()}')\n",
        "print(f'total days={(tesla.Date.max() - tesla.Date.min()).days}days')"
      ],
      "execution_count": null,
      "outputs": [
        {
          "output_type": "stream",
          "name": "stdout",
          "text": [
            "dataframe contains stock price between 2010-01-07 00:00:002019-12-03 00:00:00\n",
            "total days=3617days\n"
          ]
        }
      ]
    },
    {
      "cell_type": "code",
      "metadata": {
        "colab": {
          "base_uri": "https://localhost:8080/",
          "height": 282
        },
        "id": "2-FsjqOsmwrz",
        "outputId": "ff0aee61-a40f-438a-dcd2-73a0df125ff4"
      },
      "source": [
        "tesla[['Open' ,'High'\t, 'Low'\t, 'Close'\t, 'Adj Close']].plot(kind='box')"
      ],
      "execution_count": null,
      "outputs": [
        {
          "output_type": "execute_result",
          "data": {
            "text/plain": [
              "<matplotlib.axes._subplots.AxesSubplot at 0x7fec459a0f10>"
            ]
          },
          "metadata": {},
          "execution_count": 12
        },
        {
          "output_type": "display_data",
          "data": {
            "image/png": "[encoded data removed]",
            "text/plain": [
              "<Figure size 432x288 with 1 Axes>"
            ]
          },
          "metadata": {
            "needs_background": "light"
          }
        }
      ]
    },
    {
      "cell_type": "markdown",
      "metadata": {
        "id": "FkukjppHjS3s"
      },
      "source": [
        "ASSIGNING THE X AND Y VALUES "
      ]
    },
    {
      "cell_type": "code",
      "metadata": {
        "id": "QmIE3Dy3xvwj"
      },
      "source": [
        "x=np.array(tesla.index).reshape(-1,1)\n",
        "y=tesla['Close']"
      ],
      "execution_count": null,
      "outputs": []
    },
    {
      "cell_type": "markdown",
      "metadata": {
        "id": "aJnRWglXjZoG"
      },
      "source": [
        "SPLITTING  TRAIN AND TEST DATASET "
      ]
    },
    {
      "cell_type": "code",
      "metadata": {
        "id": "Gk-q6JEDn0Zs"
      },
      "source": [
        "from sklearn .model_selection import train_test_split\n",
        "x_train,x_test,y_train,y_test= train_test_split(x,y, test_size=0.3,random_state=4)"
      ],
      "execution_count": null,
      "outputs": []
    },
    {
      "cell_type": "markdown",
      "metadata": {
        "id": "EXTj7kBZjk1n"
      },
      "source": [
        "STANDARDISE THE DATA SET "
      ]
    },
    {
      "cell_type": "code",
      "metadata": {
        "id": "YGNGWh2dsPx3"
      },
      "source": [
        "from sklearn.preprocessing import MinMaxScaler\n",
        "from sklearn.preprocessing import StandardScaler"
      ],
      "execution_count": null,
      "outputs": []
    },
    {
      "cell_type": "code",
      "metadata": {
        "id": "_TZbuQNkxVDD"
      },
      "source": [
        "scalar = StandardScaler().fit(x_train)"
      ],
      "execution_count": null,
      "outputs": []
    },
    {
      "cell_type": "markdown",
      "metadata": {
        "id": "6c_Dti_ZkGFQ"
      },
      "source": [
        "LINEAR REGRESSION "
      ]
    },
    {
      "cell_type": "code",
      "metadata": {
        "id": "Afc9vpx_uNtC"
      },
      "source": [
        "from sklearn.linear_model import LinearRegression\n",
        "lr= LinearRegression()"
      ],
      "execution_count": null,
      "outputs": []
    },
    {
      "cell_type": "code",
      "metadata": {
        "id": "BB9BfN3KveFN",
        "colab": {
          "base_uri": "https://localhost:8080/"
        },
        "outputId": "d231b3c5-10c6-4e2a-d244-93f34a8d954a"
      },
      "source": [
        "lr.fit(x_train , y_train)"
      ],
      "execution_count": null,
      "outputs": [
        {
          "output_type": "execute_result",
          "data": {
            "text/plain": [
              "LinearRegression(copy_X=True, fit_intercept=True, n_jobs=None, normalize=False)"
            ]
          },
          "metadata": {},
          "execution_count": 18
        }
      ]
    },
    {
      "cell_type": "code",
      "metadata": {
        "colab": {
          "base_uri": "https://localhost:8080/"
        },
        "id": "8erTnVskEKuD",
        "outputId": "ee8759a5-1904-4192-d71d-11cce3a8173e"
      },
      "source": [
        "print('slope', np.asscalar(np.squeeze(lr.coef_)))\n",
        "print('intercept',lr.intercept_)"
      ],
      "execution_count": null,
      "outputs": [
        {
          "output_type": "stream",
          "name": "stdout",
          "text": [
            "slope 0.1689130417462431\n",
            "intercept -10.300873932802347\n"
          ]
        },
        {
          "output_type": "stream",
          "name": "stderr",
          "text": [
            "/usr/local/lib/python3.7/dist-packages/ipykernel_launcher.py:1: DeprecationWarning: np.asscalar(a) is deprecated since NumPy v1.16, use a.item() instead\n",
            "  \"\"\"Entry point for launching an IPython kernel.\n"
          ]
        }
      ]
    },
    {
      "cell_type": "code",
      "metadata": {
        "colab": {
          "base_uri": "https://localhost:8080/",
          "height": 621
        },
        "id": "Qh94AbDgIpNh",
        "outputId": "ed7ee45d-17fa-4a0f-b346-048d09836e03"
      },
      "source": [
        "plt.figure(1,figsize=(16,10))\n",
        "plt.title('Linear Regression | Data vs Time')\n",
        "plt.scatter(x_train,y_train,edgecolors='w',label='Actual price')\n",
        "plt.plot(x_train,lr.predict(x_train),color='r',label='predicted value')\n",
        "plt.xlabel('price')\n",
        "plt.ylabel('Date')\n",
        "plt.legend()\n",
        "plt.show()"
      ],
      "execution_count": null,
      "outputs": [
        {
          "output_type": "display_data",
          "data": {
            "image/png": "[encoded data removed]",
            "text/plain": [
              "<Figure size 1152x720 with 1 Axes>"
            ]
          },
          "metadata": {
            "needs_background": "light"
          }
        }
      ]
    },
    {
      "cell_type": "markdown",
      "metadata": {
        "id": "9XAhwfc5kO1t"
      },
      "source": [
        "SCORES \n"
      ]
    },
    {
      "cell_type": "code",
      "metadata": {
        "id": "aD-dndqLM3VG"
      },
      "source": [
        "from sklearn.metrics import mean_squared_error as mse\n",
        "from sklearn.metrics import r2_score as r2score"
      ],
      "execution_count": null,
      "outputs": []
    },
    {
      "cell_type": "code",
      "metadata": {
        "id": "sYxeFh9n1VSx",
        "colab": {
          "base_uri": "https://localhost:8080/"
        },
        "outputId": "096bd62f-c8ed-4a55-874d-9021cf4f5abb"
      },
      "source": [
        "scores=f'''\n",
        "{'metric'.ljust(10)}{'train'.center(20)}{'test'.center(20)}\n",
        "{'r2_Score'.ljust(10)}{r2score(y_train,lr.predict(x_train))}\\t{r2score(y_test,lr.predict(x_test))}\n",
        "{'mse'.ljust(10)}{mse(y_train,lr.predict(x_train))}\\t{mse(y_test,lr.predict(x_test))}\n",
        "'''\n",
        "\n",
        "print(scores)"
      ],
      "execution_count": null,
      "outputs": [
        {
          "output_type": "stream",
          "name": "stdout",
          "text": [
            "\n",
            "metric           train                test        \n",
            "r2_Score  0.8607335348368219\t0.8727361273188348\n",
            "mse       1838.1222306823079\t1742.9261627702726\n",
            "\n"
          ]
        }
      ]
    }
  ]
}